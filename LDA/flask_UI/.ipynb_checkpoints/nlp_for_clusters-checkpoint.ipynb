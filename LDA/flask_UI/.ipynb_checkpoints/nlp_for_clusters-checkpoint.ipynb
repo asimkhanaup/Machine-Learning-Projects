{
 "cells": [
  {
   "cell_type": "code",
   "execution_count": null,
   "metadata": {},
   "outputs": [],
   "source": [
    "import pandas as pd\n",
    "import numpy as np\n",
    "import matplotlib.pyplot as plt"
   ]
  },
  {
   "cell_type": "code",
   "execution_count": null,
   "metadata": {},
   "outputs": [],
   "source": [
    "import spacy\n",
    "nlp = spacy.load('en_core_web_sm')"
   ]
  },
  {
   "cell_type": "code",
   "execution_count": null,
   "metadata": {},
   "outputs": [],
   "source": [
    "stopworsd=list(nlp.Defaults.stop_words)"
   ]
  },
  {
   "cell_type": "code",
   "execution_count": null,
   "metadata": {},
   "outputs": [],
   "source": [
    "df=pd.read_excel('mongodb_data.xlsx')"
   ]
  },
  {
   "cell_type": "code",
   "execution_count": 136,
   "metadata": {},
   "outputs": [],
   "source": [
    "df=df.dropna()"
   ]
  },
  {
   "cell_type": "code",
   "execution_count": 137,
   "metadata": {},
   "outputs": [
    {
     "data": {
      "text/html": [
       "<div>\n",
       "<style scoped>\n",
       "    .dataframe tbody tr th:only-of-type {\n",
       "        vertical-align: middle;\n",
       "    }\n",
       "\n",
       "    .dataframe tbody tr th {\n",
       "        vertical-align: top;\n",
       "    }\n",
       "\n",
       "    .dataframe thead th {\n",
       "        text-align: right;\n",
       "    }\n",
       "</style>\n",
       "<table border=\"1\" class=\"dataframe\">\n",
       "  <thead>\n",
       "    <tr style=\"text-align: right;\">\n",
       "      <th></th>\n",
       "      <th>Publication number</th>\n",
       "      <th>Description</th>\n",
       "      <th>topic</th>\n",
       "      <th>Mechanical</th>\n",
       "      <th>Audio_video</th>\n",
       "      <th>Telecommunication</th>\n",
       "      <th>Computer_technology</th>\n",
       "    </tr>\n",
       "  </thead>\n",
       "  <tbody>\n",
       "    <tr>\n",
       "      <th>0</th>\n",
       "      <td>US2018300966A1</td>\n",
       "      <td>the invention relates to a method a processor ...</td>\n",
       "      <td>0</td>\n",
       "      <td>73.14</td>\n",
       "      <td>0.01</td>\n",
       "      <td>26.84</td>\n",
       "      <td>0.01</td>\n",
       "    </tr>\n",
       "    <tr>\n",
       "      <th>1</th>\n",
       "      <td>US2017236231A1</td>\n",
       "      <td>emergency evacuation is the immediate and urge...</td>\n",
       "      <td>0</td>\n",
       "      <td>99.97</td>\n",
       "      <td>0.01</td>\n",
       "      <td>0.01</td>\n",
       "      <td>0.01</td>\n",
       "    </tr>\n",
       "    <tr>\n",
       "      <th>2</th>\n",
       "      <td>US2017015177A1</td>\n",
       "      <td>the present invention relates in general to th...</td>\n",
       "      <td>0</td>\n",
       "      <td>99.98</td>\n",
       "      <td>0.01</td>\n",
       "      <td>0.01</td>\n",
       "      <td>0.01</td>\n",
       "    </tr>\n",
       "    <tr>\n",
       "      <th>3</th>\n",
       "      <td>WO2015143689A1</td>\n",
       "      <td>apparatus and method for improving air quality...</td>\n",
       "      <td>0</td>\n",
       "      <td>99.98</td>\n",
       "      <td>0.01</td>\n",
       "      <td>0.01</td>\n",
       "      <td>0.01</td>\n",
       "    </tr>\n",
       "    <tr>\n",
       "      <th>4</th>\n",
       "      <td>US2018176757A1</td>\n",
       "      <td>the invention relates to a method for providin...</td>\n",
       "      <td>0</td>\n",
       "      <td>99.98</td>\n",
       "      <td>0.01</td>\n",
       "      <td>0.01</td>\n",
       "      <td>0.01</td>\n",
       "    </tr>\n",
       "    <tr>\n",
       "      <th>...</th>\n",
       "      <td>...</td>\n",
       "      <td>...</td>\n",
       "      <td>...</td>\n",
       "      <td>...</td>\n",
       "      <td>...</td>\n",
       "      <td>...</td>\n",
       "      <td>...</td>\n",
       "    </tr>\n",
       "    <tr>\n",
       "      <th>195</th>\n",
       "      <td>US2012078496A1</td>\n",
       "      <td>this application contains subject matter relat...</td>\n",
       "      <td>1</td>\n",
       "      <td>0.01</td>\n",
       "      <td>99.98</td>\n",
       "      <td>0.01</td>\n",
       "      <td>0.01</td>\n",
       "    </tr>\n",
       "    <tr>\n",
       "      <th>196</th>\n",
       "      <td>US2012078467A1</td>\n",
       "      <td>this application contains subject matter relat...</td>\n",
       "      <td>1</td>\n",
       "      <td>0.01</td>\n",
       "      <td>99.98</td>\n",
       "      <td>0.01</td>\n",
       "      <td>0.01</td>\n",
       "    </tr>\n",
       "    <tr>\n",
       "      <th>197</th>\n",
       "      <td>US2019296308A1</td>\n",
       "      <td>the invention relates to a lithium cell which ...</td>\n",
       "      <td>1</td>\n",
       "      <td>0.01</td>\n",
       "      <td>99.96</td>\n",
       "      <td>0.01</td>\n",
       "      <td>0.02</td>\n",
       "    </tr>\n",
       "    <tr>\n",
       "      <th>198</th>\n",
       "      <td>US2015281038A1</td>\n",
       "      <td>the invention relates to a method for assignin...</td>\n",
       "      <td>0</td>\n",
       "      <td>99.98</td>\n",
       "      <td>0.01</td>\n",
       "      <td>0.01</td>\n",
       "      <td>0.01</td>\n",
       "    </tr>\n",
       "    <tr>\n",
       "      <th>199</th>\n",
       "      <td>US2015281031B1</td>\n",
       "      <td>base station communication device module progr...</td>\n",
       "      <td>0</td>\n",
       "      <td>54.31</td>\n",
       "      <td>21.71</td>\n",
       "      <td>1.67</td>\n",
       "      <td>22.31</td>\n",
       "    </tr>\n",
       "  </tbody>\n",
       "</table>\n",
       "<p>200 rows × 7 columns</p>\n",
       "</div>"
      ],
      "text/plain": [
       "    Publication number                                        Description  \\\n",
       "0       US2018300966A1  the invention relates to a method a processor ...   \n",
       "1       US2017236231A1  emergency evacuation is the immediate and urge...   \n",
       "2       US2017015177A1  the present invention relates in general to th...   \n",
       "3       WO2015143689A1  apparatus and method for improving air quality...   \n",
       "4       US2018176757A1  the invention relates to a method for providin...   \n",
       "..                 ...                                                ...   \n",
       "195     US2012078496A1  this application contains subject matter relat...   \n",
       "196     US2012078467A1  this application contains subject matter relat...   \n",
       "197     US2019296308A1  the invention relates to a lithium cell which ...   \n",
       "198     US2015281038A1  the invention relates to a method for assignin...   \n",
       "199     US2015281031B1  base station communication device module progr...   \n",
       "\n",
       "     topic  Mechanical  Audio_video  Telecommunication  Computer_technology  \n",
       "0        0       73.14         0.01              26.84                 0.01  \n",
       "1        0       99.97         0.01               0.01                 0.01  \n",
       "2        0       99.98         0.01               0.01                 0.01  \n",
       "3        0       99.98         0.01               0.01                 0.01  \n",
       "4        0       99.98         0.01               0.01                 0.01  \n",
       "..     ...         ...          ...                ...                  ...  \n",
       "195      1        0.01        99.98               0.01                 0.01  \n",
       "196      1        0.01        99.98               0.01                 0.01  \n",
       "197      1        0.01        99.96               0.01                 0.02  \n",
       "198      0       99.98         0.01               0.01                 0.01  \n",
       "199      0       54.31        21.71               1.67                22.31  \n",
       "\n",
       "[200 rows x 7 columns]"
      ]
     },
     "execution_count": 137,
     "metadata": {},
     "output_type": "execute_result"
    }
   ],
   "source": [
    "df"
   ]
  },
  {
   "cell_type": "code",
   "execution_count": 138,
   "metadata": {},
   "outputs": [],
   "source": [
    "from sklearn.feature_extraction.text import TfidfVectorizer\n",
    "tfid=TfidfVectorizer()"
   ]
  },
  {
   "cell_type": "code",
   "execution_count": 139,
   "metadata": {},
   "outputs": [],
   "source": [
    "import spacy\n",
    "nlp=spacy.load('en_core_web_sm')"
   ]
  },
  {
   "cell_type": "code",
   "execution_count": 140,
   "metadata": {},
   "outputs": [],
   "source": [
    "text2=df['Description'][0]"
   ]
  },
  {
   "cell_type": "code",
   "execution_count": 141,
   "metadata": {},
   "outputs": [],
   "source": [
    "from wordcloud import WordCloud"
   ]
  },
  {
   "cell_type": "code",
   "execution_count": 142,
   "metadata": {},
   "outputs": [],
   "source": [
    "l=[]\n",
    "for i in text2.split():\n",
    "    if(i not in stopworsd):\n",
    "        l.append(i)"
   ]
  },
  {
   "cell_type": "code",
   "execution_count": 143,
   "metadata": {},
   "outputs": [
    {
     "data": {
      "text/plain": [
       "'e'"
      ]
     },
     "execution_count": 143,
     "metadata": {},
     "output_type": "execute_result"
    }
   ],
   "source": [
    "text2[2]"
   ]
  },
  {
   "cell_type": "code",
   "execution_count": 144,
   "metadata": {},
   "outputs": [
    {
     "data": {
      "image/png": "[encoded data removed]",
      "text/plain": [
       "<Figure size 432x288 with 1 Axes>"
      ]
     },
     "metadata": {
      "needs_background": "light"
     },
     "output_type": "display_data"
    }
   ],
   "source": [
    "wordcloud2 = WordCloud().generate(text2)\n",
    "# Generate plot\n",
    "plt.imshow(wordcloud2)\n",
    "plt.axis(\"off\")\n",
    "plt.show()"
   ]
  },
  {
   "cell_type": "code",
   "execution_count": 145,
   "metadata": {},
   "outputs": [],
   "source": [
    "from sklearn.feature_extraction.text import CountVectorizer"
   ]
  },
  {
   "cell_type": "code",
   "execution_count": 146,
   "metadata": {},
   "outputs": [],
   "source": [
    "cv=CountVectorizer(max_df=0.85,min_df=2,stop_words='english',ngram_range=(1, 2))"
   ]
  },
  {
   "cell_type": "code",
   "execution_count": 147,
   "metadata": {},
   "outputs": [],
   "source": [
    "dtm=cv.fit_transform(df['Description'])"
   ]
  },
  {
   "cell_type": "code",
   "execution_count": 148,
   "metadata": {},
   "outputs": [
    {
     "data": {
      "text/plain": [
       "<200x43688 sparse matrix of type '<class 'numpy.int64'>'\n",
       "\twith 221179 stored elements in Compressed Sparse Row format>"
      ]
     },
     "execution_count": 148,
     "metadata": {},
     "output_type": "execute_result"
    }
   ],
   "source": [
    "dtm"
   ]
  },
  {
   "cell_type": "code",
   "execution_count": 149,
   "metadata": {},
   "outputs": [],
   "source": [
    "from sklearn.decomposition import LatentDirichletAllocation"
   ]
  },
  {
   "cell_type": "code",
   "execution_count": 150,
   "metadata": {},
   "outputs": [],
   "source": [
    "lda=LatentDirichletAllocation(n_components=4,random_state=42)"
   ]
  },
  {
   "cell_type": "code",
   "execution_count": 151,
   "metadata": {},
   "outputs": [
    {
     "data": {
      "text/plain": [
       "LatentDirichletAllocation(batch_size=128, doc_topic_prior=None,\n",
       "                          evaluate_every=-1, learning_decay=0.7,\n",
       "                          learning_method='batch', learning_offset=10.0,\n",
       "                          max_doc_update_iter=100, max_iter=10,\n",
       "                          mean_change_tol=0.001, n_components=4, n_jobs=None,\n",
       "                          perp_tol=0.1, random_state=42, topic_word_prior=None,\n",
       "                          total_samples=1000000.0, verbose=0)"
      ]
     },
     "execution_count": 151,
     "metadata": {},
     "output_type": "execute_result"
    }
   ],
   "source": [
    "lda.fit(dtm)"
   ]
  },
  {
   "cell_type": "code",
   "execution_count": 152,
   "metadata": {},
   "outputs": [
    {
     "data": {
      "text/plain": [
       "43688"
      ]
     },
     "execution_count": 152,
     "metadata": {},
     "output_type": "execute_result"
    }
   ],
   "source": [
    "len(cv.get_feature_names())"
   ]
  },
  {
   "cell_type": "code",
   "execution_count": 153,
   "metadata": {},
   "outputs": [
    {
     "data": {
      "text/plain": [
       "'com'"
      ]
     },
     "execution_count": 153,
     "metadata": {},
     "output_type": "execute_result"
    }
   ],
   "source": [
    "cv.get_feature_names()[6000]"
   ]
  },
  {
   "cell_type": "code",
   "execution_count": 154,
   "metadata": {},
   "outputs": [
    {
     "name": "stdout",
     "output_type": "stream",
     "text": [
      "4\n"
     ]
    }
   ],
   "source": [
    "print(len(lda.components_))"
   ]
  },
  {
   "cell_type": "code",
   "execution_count": 155,
   "metadata": {},
   "outputs": [
    {
     "data": {
      "text/plain": [
       "array([[14.24999971,  2.24999968,  2.24999968, ...,  0.25008485,\n",
       "         2.2499461 ,  2.2499461 ],\n",
       "       [ 0.2500001 ,  0.25000012,  0.25000012, ...,  0.25000016,\n",
       "         0.25005352,  0.25005352],\n",
       "       [ 0.25000011,  0.25000013,  0.25000013, ...,  0.25000017,\n",
       "         0.25000023,  0.25000023],\n",
       "       [ 0.25000007,  0.25000008,  0.25000008, ...,  3.24991482,\n",
       "         0.25000015,  0.25000015]])"
      ]
     },
     "execution_count": 155,
     "metadata": {},
     "output_type": "execute_result"
    }
   ],
   "source": [
    "lda.components_"
   ]
  },
  {
   "cell_type": "code",
   "execution_count": 156,
   "metadata": {},
   "outputs": [],
   "source": [
    "single_topic=lda.components_[0]"
   ]
  },
  {
   "cell_type": "code",
   "execution_count": 157,
   "metadata": {},
   "outputs": [
    {
     "data": {
      "text/plain": [
       "array([35439,  3133,  3136, ..., 26777, 19433,  9209], dtype=int64)"
      ]
     },
     "execution_count": 157,
     "metadata": {},
     "output_type": "execute_result"
    }
   ],
   "source": [
    "single_topic.argsort()"
   ]
  },
  {
   "cell_type": "code",
   "execution_count": 158,
   "metadata": {},
   "outputs": [],
   "source": [
    "import numpy as np"
   ]
  },
  {
   "cell_type": "code",
   "execution_count": 159,
   "metadata": {},
   "outputs": [],
   "source": [
    "arr=np.array([10,200,1])"
   ]
  },
  {
   "cell_type": "code",
   "execution_count": 160,
   "metadata": {},
   "outputs": [
    {
     "data": {
      "text/plain": [
       "array([2, 0, 1], dtype=int64)"
      ]
     },
     "execution_count": 160,
     "metadata": {},
     "output_type": "execute_result"
    }
   ],
   "source": [
    "arr.argsort()"
   ]
  },
  {
   "cell_type": "code",
   "execution_count": 161,
   "metadata": {},
   "outputs": [
    {
     "data": {
      "text/plain": [
       "array([ 6968,  6188, 23836, 30755, 18510, 24806, 11032, 26777, 19433,\n",
       "        9209], dtype=int64)"
      ]
     },
     "execution_count": 161,
     "metadata": {},
     "output_type": "execute_result"
    }
   ],
   "source": [
    "single_topic.argsort()[-10:]"
   ]
  },
  {
   "cell_type": "code",
   "execution_count": 162,
   "metadata": {},
   "outputs": [],
   "source": [
    "top_ten_single_Atr=single_topic.argsort()[-20:]"
   ]
  },
  {
   "cell_type": "code",
   "execution_count": 163,
   "metadata": {},
   "outputs": [
    {
     "name": "stdout",
     "output_type": "stream",
     "text": [
      "second\n",
      "determined\n",
      "base\n",
      "transmission\n",
      "respective\n",
      "navigation\n",
      "map\n",
      "display\n",
      "embodiment\n",
      "user\n",
      "computer\n",
      "communication\n",
      "mobile\n",
      "radio\n",
      "image\n",
      "network\n",
      "device\n",
      "particular\n",
      "information\n",
      "data\n"
     ]
    }
   ],
   "source": [
    "for index in top_ten_single_Atr:\n",
    "    print(cv.get_feature_names()[index])"
   ]
  },
  {
   "cell_type": "code",
   "execution_count": 164,
   "metadata": {},
   "outputs": [
    {
     "name": "stdout",
     "output_type": "stream",
     "text": [
      "Top 20 for 0\n",
      "['quiescent', 'transmitting', 'object', 'rate', 'operating', 'status', 'drive', 'target', 'comparison', 'respect', 'computer program', 'bus', 'parameters', 'various', 'transformed', 'telematics', 'function', 'located', 'identified', 'operation', 'addition', 'speed', 'storage', 'voice', 'pedal', 'travel', 'predefined', 'packets', 'type', 'condition', 'predetermined', 'additional', 'product', 'steps', 'state', 'end', 'antenna', 'includes', 'component', 'determining', 'identification', 'obstacle', 'brake', 'source', 'relevant', 'shows', 'block', 'said', 'ventilation vehicle', 'link', 'disclosure', 'according invention', 'determine', 'event', 'camera', 'form', 'variation', 'transformation', 'perspective', 'ventilation', 'provide', 'processing unit', 'data transmission', 'designed', 'terminal', 'gaussian', 'database', 'controller', 'measurement', 'having', 'carried', 'vehicle data', 'image content', 'broadcast', 'cellular', 'backend', 'space', 'transceiver', 'particularly', 'specific', 'manner', 'software', 'data packet', 'furthermore', 'messages', 'configuration', 'available', 'signals', 'associated', 'application', 'exemplary embodiment', 'location', 'threshold', 'aspect', 'electronic', 'performed', 'cell', 'users', 'apparatus', 'systems', 'devices', 'elements', 'input', 'advantageous', 'traffic', 'wireless', 'known', 'include', 'local', 'configured', 'central', 'individual', 'element', 'assigned', 'access', 'displayed', 'result', 'values', 'points', 'quality', 'sensors', 'basis', 'packet', 'shown', 'accordance', 'service', 'described', 'received', 'route', 'video', 'program', 'set', 'preferably', 'driving', 'output', 'processor', 'reference', 'components', 'process', 'channel', 'different', 'memory', 'number', 'comprise', 'connected', 'transmitted', 'place', 'current', 'module', 'interface', 'comprises', 'mobile radio', 'content', 'motor vehicle', 'exemplary', 'sensor', 'message', 'distance', 'point', 'motor', 'area', 'based', 'server', 'base station', 'model', 'parking', 'processing', 'means', 'stored', 'value', 'vehicles', 'driver', 'control', 'using', 'step', 'station', 'destination', 'connection', 'plurality', 'position', 'second', 'determined', 'base', 'transmission', 'respective', 'navigation', 'map', 'display', 'embodiment', 'user', 'computer', 'communication', 'mobile', 'radio', 'image', 'network', 'device', 'particular', 'information', 'data']\n",
      "Top 20 for 1\n",
      "['particularly', 'preferred', 'desired', 'base station', 'negative acknowledgment', 'driving assistant', 'electrode', 'pois', 'profile data', 'actuator', 'certain', 'fp', 'distance', 'movement', 'internal combustion', 'eco mode', 'trip', 'proactive', 'lane', 'disclosure', 'furthermore', 'fig shows', 'available', 'multicast broadcast', 'acceleration', 'concept', 'data record', 'acknowledgment', 'include', 'control unit', 'eta', 'sensor', 'combustion engine', 'sm', 'priority', 'indication', 'segments', 'multicast', 'manner', 'angle', 'result', 'associated', 'driving style', 'information related', 'data packet', 'feature', 'radio', 'operable', 'gas', 'driver assistance', 'received', 'record', 'program', 'signals', 'lighting apparatus', 'number', 'combustion', 'style', 'advantageous', 'connecting', 'electric', 'plurality', 'quality indicator', 'object', 'set', 'addition', 'shown', 'active', 'glasses', 'channel quality', 'assistance', 'drivers', 'determine', 'interface', 'type', 'receiving', 'units', 'broadcast', 'vehicles', 'base', 'block', 'specific', 'relay transceiver', 'users', 'components', 'trace', 'form', 'list', 'transmitted', 'devices', 'respect', 'having', 'access', 'transmission', 'displayed', 'temperature', 'position', 'input', 'process', 'poi', 'provide', 'described', 'operating', 'state', 'using', 'shows', 'graphic', 'stack', 'elements', 'determined', 'point', 'second communication', 'negative', 'place', 'signal', 'view', 'separator', 'assistant', 'systems', 'related', 'different', 'bus', 'torque', 'joint', 'processing', 'respective', 'output', 'internal', 'application', 'computer', 'power', 'change', 'context', 'value', 'parameter', 'navigation', 'speed', 'eco', 'energy utilization', 'according invention', 'current', 'values', 'characteristic', 'network', 'channel', 'quality', 'profile', 'body', 'indicator', 'traffic', 'led unit', 'comprise', 'comprises', 'packet', 'utilization', 'lighting', 'station', 'road', 'engine', 'drive', 'light', 'mode', 'function', 'motor vehicle', 'element', 'means', 'apparatus', 'parameters', 'based', 'route', 'module', 'embodiment', 'cell', 'transceiver', 'location', 'relay', 'mobile', 'preferably', 'communication device', 'range', 'fuel consumption', 'accelerator pedal', 'led', 'accelerator', 'energy', 'pedal', 'motor', 'particular', 'consumption', 'control', 'communication', 'second', 'device', 'user', 'driver', 'fuel', 'driving', 'information', 'display', 'data']\n",
      "Top 20 for 2\n",
      "['average', 'associated', 'phantom object', 'communication protocol', 'limited', 'exemplary embodiment', 'location', 'reverse', 'green', 'engine', 'selected', 'alternatively', 'provide', 'stop', 'broadcast', 'segments', 'model surroundings', 'office', 'interval', 'change', 'eye', 'account', 'management', 'forward travel', 'viewing', 'described document', 'arm', 'detected event', 'electrical energy', 'road', 'memory', 'time segment', 'preferably', 'purpose', 'related', 'costs', 'having', 'fluid', 'sting', 'vehicle charging', 'typically', 'module configured', 'available', 'application', 'correction', 'driver assistance', 'result', 'source', 'phantom', 'methods', 'flow', 'multiplicity', 'model', 'awareness level', 'shield', 'outside', 'connected', 'way example', 'acceleration', 'relative', 'arranged', 'additionally', 'awareness modification', 'red', 'electric', 'charging stations', 'able', 'situated', 'gesture', 'layer', 'manner', 'communication device', 'reference data', 'addition', 'stations', 'operation', 'charging process', 'roof', 'state', 'protocol', 'function', 'telematic', 'reaction', 'connection', 'includes', 'charge', 'set', 'mode', 'line', 'reference trajectory', 'energy store', 'segment', 'radio key', 'plurality', 'positioning', 'driving', 'maximum', 'document', 'processing', 'image', 'electrical', 'virtual', 'motor vehicle', 'end', 'traffic signal', 'temperature', 'include', 'different', 'using', 'sequence', 'means', 'shown', 'view', 'elements', 'limit', 'aspect', 'forward', 'modification', 'glare', 'speed', 'process', 'particular', 'cabin', 'predefined', 'reversing', 'key', 'comprise', 'store', 'charging current', 'range', 'assistance', 'basis', 'level', 'furthermore', 'systems', 'radio', 'bus', 'light', 'motor', 'embodiment', 'movement', 'user situation', 'intersection', 'points', 'area', 'control unit', 'signals', 'operating', 'camera', 'based', 'apparatus', 'determining', 'comprises', 'distance', 'determine', 'vehicles', 'exemplary', 'surroundings', 'described', 'wiper', 'detection', 'fig shows', 'charging cable', 'detected', 'power', 'event', 'point', 'shows', 'cable', 'driver', 'determined', 'configured', 'situation awareness', 'region', 'awareness', 'energy', 'direction', 'current', 'picular', 'object', 'situation', 'trajectory', 'element', 'communication', 'traffic', 'travel', 'sensor', 'reference', 'second', 'module', 'control', 'information', 'signal', 'station', 'charging station', 'device', 'user', 'data', 'position', 'charging']\n",
      "Top 20 for 3\n",
      "['operated', 'place', 'assigned', 'external', 'direction', 'central', 'safety', 'possibly', 'particular', 'location', 'target', 'diagram', 'preferably', 'ip', 'provide', 'terminal', 'characteristic', 'probability', 'control units', 'roadway', 'methods', 'relatively', 'engine', 'base', 'computer', 'unit designed', 'messages', 'relative', 'visual', 'request signal', 'individual', 'form', 'detection', 'purpose', 'respect', 'address', 'functions', 'measurement', 'dc', 'unit vehicle', 'onboard', 'generated', 'road users', 'particularly', 'threshold value', 'instance', 'having', 'electrical unit', 'alternatively', 'maximum', 'values', 'distance', 'state charge', 'control device', 'users', 'period', 'operation', 'plurality', 'key', 'message', 'multiplicity', 'transmitted', 'battery', 'transmitting', 'number', 'receiver', 'coupling', 'fan', 'according aspect', 'vehicles', 'high', 'threshold', 'using', 'emergency supply', 'additionally', 'secondary', 'process', 'environment', 'fig shows', 'flexray', 'phase', 'switching', 'switch', 'result', 'devices', 'layer', 'primary', 'program data', 'driving', 'cell', 'filter', 'strength', 'internet', 'determine', 'ethernet', 'described document', 'access', 'charge', 'situation', 'transmitter', 'component', 'protocol', 'traffic', 'lane', 'interface', 'motor vehicle', 'shows', 'include', 'input', 'aspect', 'manner', 'supply energy', 'programming', 'storage device', 'predefined', 'cells', 'includes', 'components', 'connected', 'machine', 'signals', 'emergency', 'memory', 'controller', 'typically', 'coupled', 'energy store', 'addition', 'sensors', 'comprise', 'converter', 'rotor', 'position', 'transmission', 'unit configured', 'exemplary', 'respective', 'electrical energy', 'module', 'information', 'connection', 'driver', 'point', 'reference', 'request', 'document', 'surroundings', 'determined', 'electric', 'store', 'frequency', 'comprises', 'circuit', 'systems', 'object', 'coil', 'units', 'output', 'different', 'speed', 'network', 'range', 'furthermore', 'bus', 'mode', 'designed', 'energy storage', 'motor', 'means', 'sensor', 'set', 'basis', 'detected', 'line', 'state', 'power', 'value', 'configured', 'described', 'program', 'second', 'road user', 'charging', 'operating', 'device', 'function', 'supply', 'picular', 'voltage', 'storage', 'user', 'electrical', 'current', 'communication', 'control unit', 'energy', 'road', 'signal', 'data', 'control']\n"
     ]
    }
   ],
   "source": [
    "\n",
    "for index,topic in enumerate(lda.components_):\n",
    "    print(f'Top 20 for {index}')\n",
    "    print([cv.get_feature_names()[index1] for index1 in topic.argsort()[-200:]])"
   ]
  },
  {
   "cell_type": "code",
   "execution_count": 165,
   "metadata": {},
   "outputs": [],
   "source": [
    "topic_results=lda.transform(dtm)"
   ]
  },
  {
   "cell_type": "code",
   "execution_count": 166,
   "metadata": {},
   "outputs": [
    {
     "data": {
      "text/plain": [
       "0"
      ]
     },
     "execution_count": 166,
     "metadata": {},
     "output_type": "execute_result"
    }
   ],
   "source": [
    "topic_results[1].argmax()"
   ]
  },
  {
   "cell_type": "code",
   "execution_count": 167,
   "metadata": {},
   "outputs": [
    {
     "name": "stdout",
     "output_type": "stream",
     "text": [
      "99.98\n",
      "0.007\n",
      "0.007\n",
      "0.007\n"
     ]
    }
   ],
   "source": [
    "for i in topic_results[2]/np.sum(topic_results[2])*100:\n",
    "    print(round(i,3))"
   ]
  },
  {
   "cell_type": "code",
   "execution_count": 168,
   "metadata": {},
   "outputs": [
    {
     "data": {
      "text/plain": [
       "0.9999999999999999"
      ]
     },
     "execution_count": 168,
     "metadata": {},
     "output_type": "execute_result"
    }
   ],
   "source": [
    "np.sum(topic_results[2])"
   ]
  },
  {
   "cell_type": "code",
   "execution_count": 169,
   "metadata": {},
   "outputs": [],
   "source": [
    "df['topic']=topic_results.argmax(axis=1)"
   ]
  },
  {
   "cell_type": "code",
   "execution_count": 170,
   "metadata": {},
   "outputs": [
    {
     "data": {
      "text/html": [
       "<div>\n",
       "<style scoped>\n",
       "    .dataframe tbody tr th:only-of-type {\n",
       "        vertical-align: middle;\n",
       "    }\n",
       "\n",
       "    .dataframe tbody tr th {\n",
       "        vertical-align: top;\n",
       "    }\n",
       "\n",
       "    .dataframe thead th {\n",
       "        text-align: right;\n",
       "    }\n",
       "</style>\n",
       "<table border=\"1\" class=\"dataframe\">\n",
       "  <thead>\n",
       "    <tr style=\"text-align: right;\">\n",
       "      <th></th>\n",
       "      <th>Publication number</th>\n",
       "      <th>Description</th>\n",
       "      <th>topic</th>\n",
       "      <th>Mechanical</th>\n",
       "      <th>Audio_video</th>\n",
       "      <th>Telecommunication</th>\n",
       "      <th>Computer_technology</th>\n",
       "    </tr>\n",
       "  </thead>\n",
       "  <tbody>\n",
       "    <tr>\n",
       "      <th>0</th>\n",
       "      <td>US2018300966A1</td>\n",
       "      <td>the invention relates to a method a processor ...</td>\n",
       "      <td>0</td>\n",
       "      <td>73.14</td>\n",
       "      <td>0.01</td>\n",
       "      <td>26.84</td>\n",
       "      <td>0.01</td>\n",
       "    </tr>\n",
       "    <tr>\n",
       "      <th>1</th>\n",
       "      <td>US2017236231A1</td>\n",
       "      <td>emergency evacuation is the immediate and urge...</td>\n",
       "      <td>0</td>\n",
       "      <td>99.97</td>\n",
       "      <td>0.01</td>\n",
       "      <td>0.01</td>\n",
       "      <td>0.01</td>\n",
       "    </tr>\n",
       "    <tr>\n",
       "      <th>2</th>\n",
       "      <td>US2017015177A1</td>\n",
       "      <td>the present invention relates in general to th...</td>\n",
       "      <td>0</td>\n",
       "      <td>99.98</td>\n",
       "      <td>0.01</td>\n",
       "      <td>0.01</td>\n",
       "      <td>0.01</td>\n",
       "    </tr>\n",
       "    <tr>\n",
       "      <th>3</th>\n",
       "      <td>WO2015143689A1</td>\n",
       "      <td>apparatus and method for improving air quality...</td>\n",
       "      <td>0</td>\n",
       "      <td>99.98</td>\n",
       "      <td>0.01</td>\n",
       "      <td>0.01</td>\n",
       "      <td>0.01</td>\n",
       "    </tr>\n",
       "    <tr>\n",
       "      <th>4</th>\n",
       "      <td>US2018176757A1</td>\n",
       "      <td>the invention relates to a method for providin...</td>\n",
       "      <td>0</td>\n",
       "      <td>99.98</td>\n",
       "      <td>0.01</td>\n",
       "      <td>0.01</td>\n",
       "      <td>0.01</td>\n",
       "    </tr>\n",
       "    <tr>\n",
       "      <th>...</th>\n",
       "      <td>...</td>\n",
       "      <td>...</td>\n",
       "      <td>...</td>\n",
       "      <td>...</td>\n",
       "      <td>...</td>\n",
       "      <td>...</td>\n",
       "      <td>...</td>\n",
       "    </tr>\n",
       "    <tr>\n",
       "      <th>195</th>\n",
       "      <td>US2012078496A1</td>\n",
       "      <td>this application contains subject matter relat...</td>\n",
       "      <td>1</td>\n",
       "      <td>0.01</td>\n",
       "      <td>99.98</td>\n",
       "      <td>0.01</td>\n",
       "      <td>0.01</td>\n",
       "    </tr>\n",
       "    <tr>\n",
       "      <th>196</th>\n",
       "      <td>US2012078467A1</td>\n",
       "      <td>this application contains subject matter relat...</td>\n",
       "      <td>1</td>\n",
       "      <td>0.01</td>\n",
       "      <td>99.98</td>\n",
       "      <td>0.01</td>\n",
       "      <td>0.01</td>\n",
       "    </tr>\n",
       "    <tr>\n",
       "      <th>197</th>\n",
       "      <td>US2019296308A1</td>\n",
       "      <td>the invention relates to a lithium cell which ...</td>\n",
       "      <td>1</td>\n",
       "      <td>0.01</td>\n",
       "      <td>99.96</td>\n",
       "      <td>0.01</td>\n",
       "      <td>0.02</td>\n",
       "    </tr>\n",
       "    <tr>\n",
       "      <th>198</th>\n",
       "      <td>US2015281038A1</td>\n",
       "      <td>the invention relates to a method for assignin...</td>\n",
       "      <td>0</td>\n",
       "      <td>99.98</td>\n",
       "      <td>0.01</td>\n",
       "      <td>0.01</td>\n",
       "      <td>0.01</td>\n",
       "    </tr>\n",
       "    <tr>\n",
       "      <th>199</th>\n",
       "      <td>US2015281031B1</td>\n",
       "      <td>base station communication device module progr...</td>\n",
       "      <td>0</td>\n",
       "      <td>54.31</td>\n",
       "      <td>21.71</td>\n",
       "      <td>1.67</td>\n",
       "      <td>22.31</td>\n",
       "    </tr>\n",
       "  </tbody>\n",
       "</table>\n",
       "<p>200 rows × 7 columns</p>\n",
       "</div>"
      ],
      "text/plain": [
       "    Publication number                                        Description  \\\n",
       "0       US2018300966A1  the invention relates to a method a processor ...   \n",
       "1       US2017236231A1  emergency evacuation is the immediate and urge...   \n",
       "2       US2017015177A1  the present invention relates in general to th...   \n",
       "3       WO2015143689A1  apparatus and method for improving air quality...   \n",
       "4       US2018176757A1  the invention relates to a method for providin...   \n",
       "..                 ...                                                ...   \n",
       "195     US2012078496A1  this application contains subject matter relat...   \n",
       "196     US2012078467A1  this application contains subject matter relat...   \n",
       "197     US2019296308A1  the invention relates to a lithium cell which ...   \n",
       "198     US2015281038A1  the invention relates to a method for assignin...   \n",
       "199     US2015281031B1  base station communication device module progr...   \n",
       "\n",
       "     topic  Mechanical  Audio_video  Telecommunication  Computer_technology  \n",
       "0        0       73.14         0.01              26.84                 0.01  \n",
       "1        0       99.97         0.01               0.01                 0.01  \n",
       "2        0       99.98         0.01               0.01                 0.01  \n",
       "3        0       99.98         0.01               0.01                 0.01  \n",
       "4        0       99.98         0.01               0.01                 0.01  \n",
       "..     ...         ...          ...                ...                  ...  \n",
       "195      1        0.01        99.98               0.01                 0.01  \n",
       "196      1        0.01        99.98               0.01                 0.01  \n",
       "197      1        0.01        99.96               0.01                 0.02  \n",
       "198      0       99.98         0.01               0.01                 0.01  \n",
       "199      0       54.31        21.71               1.67                22.31  \n",
       "\n",
       "[200 rows x 7 columns]"
      ]
     },
     "execution_count": 170,
     "metadata": {},
     "output_type": "execute_result"
    }
   ],
   "source": [
    "df"
   ]
  },
  {
   "cell_type": "code",
   "execution_count": 171,
   "metadata": {},
   "outputs": [
    {
     "data": {
      "text/plain": [
       "0    75\n",
       "3    57\n",
       "2    34\n",
       "1    34\n",
       "Name: topic, dtype: int64"
      ]
     },
     "execution_count": 171,
     "metadata": {},
     "output_type": "execute_result"
    }
   ],
   "source": [
    "df['topic'].value_counts()"
   ]
  },
  {
   "cell_type": "code",
   "execution_count": 172,
   "metadata": {},
   "outputs": [],
   "source": [
    "Mechanical=[]\n",
    "Audio_video=[]\n",
    "Telecommunication=[]\n",
    "Computer_technology=[]\n",
    "def fun_to_app(i):\n",
    "    Mechanical.append(round(i[0]/i.sum()*100,2))\n",
    "    Audio_video.append(round(i[1]/i.sum()*100,2))\n",
    "    Telecommunication.append(round(i[2]/i.sum()*100,2))\n",
    "    Computer_technology.append(round(i[3]/i.sum()*100,2))\n",
    "#     other.append(round(i[3]/i.sum()*100,2))"
   ]
  },
  {
   "cell_type": "code",
   "execution_count": 173,
   "metadata": {},
   "outputs": [],
   "source": [
    "for i in range(len(topic_results)):\n",
    "    fun_to_app(topic_results[i])"
   ]
  },
  {
   "cell_type": "code",
   "execution_count": 174,
   "metadata": {},
   "outputs": [],
   "source": [
    "df['Mechanical']=Mechanical\n",
    "df['Audio_video']=Audio_video\n",
    "df['Telecommunication']=Telecommunication\n",
    "df['Computer_technology']=Computer_technology\n",
    "# df['other']=other"
   ]
  },
  {
   "cell_type": "code",
   "execution_count": 175,
   "metadata": {},
   "outputs": [],
   "source": [
    "# df=df.drop(['Mechanical','Computer','Electrical'],axis=1)"
   ]
  },
  {
   "cell_type": "code",
   "execution_count": 176,
   "metadata": {
    "scrolled": true
   },
   "outputs": [
    {
     "ename": "IndexError",
     "evalue": "index 201 is out of bounds for axis 0 with size 200",
     "output_type": "error",
     "traceback": [
      "\u001b[1;31m---------------------------------------------------------------------------\u001b[0m",
      "\u001b[1;31mIndexError\u001b[0m                                Traceback (most recent call last)",
      "\u001b[1;32m<ipython-input-176-15cc84245d05>\u001b[0m in \u001b[0;36m<module>\u001b[1;34m\u001b[0m\n\u001b[1;32m----> 1\u001b[1;33m \u001b[0mtopic_results\u001b[0m\u001b[1;33m[\u001b[0m\u001b[1;36m201\u001b[0m\u001b[1;33m]\u001b[0m\u001b[1;33m/\u001b[0m\u001b[0mtopic_results\u001b[0m\u001b[1;33m[\u001b[0m\u001b[1;36m201\u001b[0m\u001b[1;33m]\u001b[0m\u001b[1;33m.\u001b[0m\u001b[0msum\u001b[0m\u001b[1;33m(\u001b[0m\u001b[1;33m)\u001b[0m\u001b[1;33m\u001b[0m\u001b[1;33m\u001b[0m\u001b[0m\n\u001b[0m",
      "\u001b[1;31mIndexError\u001b[0m: index 201 is out of bounds for axis 0 with size 200"
     ]
    }
   ],
   "source": [
    "topic_results[200]/topic_results[200].sum()"
   ]
  },
  {
   "cell_type": "code",
   "execution_count": 177,
   "metadata": {},
   "outputs": [
    {
     "data": {
      "text/html": [
       "<div>\n",
       "<style scoped>\n",
       "    .dataframe tbody tr th:only-of-type {\n",
       "        vertical-align: middle;\n",
       "    }\n",
       "\n",
       "    .dataframe tbody tr th {\n",
       "        vertical-align: top;\n",
       "    }\n",
       "\n",
       "    .dataframe thead th {\n",
       "        text-align: right;\n",
       "    }\n",
       "</style>\n",
       "<table border=\"1\" class=\"dataframe\">\n",
       "  <thead>\n",
       "    <tr style=\"text-align: right;\">\n",
       "      <th></th>\n",
       "      <th>Publication number</th>\n",
       "      <th>Description</th>\n",
       "      <th>topic</th>\n",
       "      <th>Mechanical</th>\n",
       "      <th>Audio_video</th>\n",
       "      <th>Telecommunication</th>\n",
       "      <th>Computer_technology</th>\n",
       "    </tr>\n",
       "  </thead>\n",
       "  <tbody>\n",
       "    <tr>\n",
       "      <th>4</th>\n",
       "      <td>US2018176757A1</td>\n",
       "      <td>the invention relates to a method for providin...</td>\n",
       "      <td>0</td>\n",
       "      <td>99.98</td>\n",
       "      <td>0.01</td>\n",
       "      <td>0.01</td>\n",
       "      <td>0.01</td>\n",
       "    </tr>\n",
       "  </tbody>\n",
       "</table>\n",
       "</div>"
      ],
      "text/plain": [
       "  Publication number                                        Description  \\\n",
       "4     US2018176757A1  the invention relates to a method for providin...   \n",
       "\n",
       "   topic  Mechanical  Audio_video  Telecommunication  Computer_technology  \n",
       "4      0       99.98         0.01               0.01                 0.01  "
      ]
     },
     "execution_count": 177,
     "metadata": {},
     "output_type": "execute_result"
    }
   ],
   "source": [
    "df[df['Publication number']=='US2018176757A1']"
   ]
  },
  {
   "cell_type": "code",
   "execution_count": 178,
   "metadata": {},
   "outputs": [],
   "source": [
    "df.to_csv('Output_file1.csv',index=False)"
   ]
  },
  {
   "cell_type": "code",
   "execution_count": 179,
   "metadata": {},
   "outputs": [
    {
     "ename": "NameError",
     "evalue": "name 'dae' is not defined",
     "output_type": "error",
     "traceback": [
      "\u001b[1;31m---------------------------------------------------------------------------\u001b[0m",
      "\u001b[1;31mNameError\u001b[0m                                 Traceback (most recent call last)",
      "\u001b[1;32m<ipython-input-179-dd3db248854c>\u001b[0m in \u001b[0;36m<module>\u001b[1;34m\u001b[0m\n\u001b[1;32m----> 1\u001b[1;33m \u001b[0mdae\u001b[0m\u001b[1;33m[\u001b[0m\u001b[1;34m'Publication number'\u001b[0m\u001b[1;33m]\u001b[0m\u001b[1;33m.\u001b[0m\u001b[0mvalues\u001b[0m\u001b[1;33m\u001b[0m\u001b[1;33m\u001b[0m\u001b[0m\n\u001b[0m",
      "\u001b[1;31mNameError\u001b[0m: name 'dae' is not defined"
     ]
    }
   ],
   "source": [
    "dae['Publication number'].values"
   ]
  },
  {
   "cell_type": "code",
   "execution_count": 180,
   "metadata": {},
   "outputs": [
    {
     "data": {
      "text/html": [
       "<div>\n",
       "<style scoped>\n",
       "    .dataframe tbody tr th:only-of-type {\n",
       "        vertical-align: middle;\n",
       "    }\n",
       "\n",
       "    .dataframe tbody tr th {\n",
       "        vertical-align: top;\n",
       "    }\n",
       "\n",
       "    .dataframe thead th {\n",
       "        text-align: right;\n",
       "    }\n",
       "</style>\n",
       "<table border=\"1\" class=\"dataframe\">\n",
       "  <thead>\n",
       "    <tr style=\"text-align: right;\">\n",
       "      <th></th>\n",
       "      <th>Publication number</th>\n",
       "      <th>Description</th>\n",
       "      <th>topic</th>\n",
       "      <th>Mechanical</th>\n",
       "      <th>Audio_video</th>\n",
       "      <th>Telecommunication</th>\n",
       "      <th>Computer_technology</th>\n",
       "    </tr>\n",
       "  </thead>\n",
       "  <tbody>\n",
       "    <tr>\n",
       "      <th>104</th>\n",
       "      <td>US2012209487A1</td>\n",
       "      <td>the invention relates to a traffic broadcast s...</td>\n",
       "      <td>2</td>\n",
       "      <td>45.29</td>\n",
       "      <td>0.01</td>\n",
       "      <td>54.69</td>\n",
       "      <td>0.01</td>\n",
       "    </tr>\n",
       "  </tbody>\n",
       "</table>\n",
       "</div>"
      ],
      "text/plain": [
       "    Publication number                                        Description  \\\n",
       "104     US2012209487A1  the invention relates to a traffic broadcast s...   \n",
       "\n",
       "     topic  Mechanical  Audio_video  Telecommunication  Computer_technology  \n",
       "104      2       45.29         0.01              54.69                 0.01  "
      ]
     },
     "execution_count": 180,
     "metadata": {},
     "output_type": "execute_result"
    }
   ],
   "source": [
    "df[df['Publication number']=='US2012209487A1']"
   ]
  },
  {
   "cell_type": "code",
   "execution_count": 181,
   "metadata": {},
   "outputs": [
    {
     "data": {
      "text/plain": [
       "Publication number                                        US2018245939A1\n",
       "Description            the invention relates to a method for transmit...\n",
       "topic                                                                  0\n",
       "Mechanical                                                         99.97\n",
       "Audio_video                                                         0.01\n",
       "Telecommunication                                                   0.01\n",
       "Computer_technology                                                 0.01\n",
       "Name: 116, dtype: object"
      ]
     },
     "execution_count": 181,
     "metadata": {},
     "output_type": "execute_result"
    }
   ],
   "source": [
    "df.iloc[116]"
   ]
  },
  {
   "cell_type": "code",
   "execution_count": null,
   "metadata": {},
   "outputs": [],
   "source": [
    "df"
   ]
  },
  {
   "cell_type": "code",
   "execution_count": null,
   "metadata": {},
   "outputs": [],
   "source": []
  },
  {
   "cell_type": "code",
   "execution_count": null,
   "metadata": {},
   "outputs": [],
   "source": []
  },
  {
   "cell_type": "code",
   "execution_count": null,
   "metadata": {},
   "outputs": [],
   "source": []
  },
  {
   "cell_type": "code",
   "execution_count": null,
   "metadata": {},
   "outputs": [],
   "source": []
  },
  {
   "cell_type": "code",
   "execution_count": null,
   "metadata": {},
   "outputs": [],
   "source": []
  }
 ],
 "metadata": {
  "kernelspec": {
   "display_name": "Python 3",
   "language": "python",
   "name": "python3"
  },
  "language_info": {
   "codemirror_mode": {
    "name": "ipython",
    "version": 3
   },
   "file_extension": ".py",
   "mimetype": "text/x-python",
   "name": "python",
   "nbconvert_exporter": "python",
   "pygments_lexer": "ipython3",
   "version": "3.7.6"
  }
 },
 "nbformat": 4,
 "nbformat_minor": 4
}
