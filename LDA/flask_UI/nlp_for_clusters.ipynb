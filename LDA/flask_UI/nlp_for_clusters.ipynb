{
 "cells": [
  {
   "cell_type": "code",
   "execution_count": 1,
   "metadata": {},
   "outputs": [],
   "source": [
    "import pandas as pd\n",
    "import numpy as np\n",
    "import matplotlib.pyplot as plt"
   ]
  },
  {
   "cell_type": "code",
   "execution_count": 2,
   "metadata": {},
   "outputs": [],
   "source": [
    "import spacy\n",
    "nlp = spacy.load('en_core_web_sm')"
   ]
  },
  {
   "cell_type": "code",
   "execution_count": 3,
   "metadata": {},
   "outputs": [],
   "source": [
    "stopworsd=list(nlp.Defaults.stop_words)"
   ]
  },
  {
   "cell_type": "code",
   "execution_count": 4,
   "metadata": {},
   "outputs": [],
   "source": [
    "df=pd.read_excel('mongodb_data.xlsx')"
   ]
  },
  {
   "cell_type": "code",
   "execution_count": 5,
   "metadata": {},
   "outputs": [],
   "source": [
    "df=df.dropna()"
   ]
  },
  {
   "cell_type": "code",
   "execution_count": 6,
   "metadata": {},
   "outputs": [
    {
     "data": {
      "text/html": [
       "<div>\n",
       "<style scoped>\n",
       "    .dataframe tbody tr th:only-of-type {\n",
       "        vertical-align: middle;\n",
       "    }\n",
       "\n",
       "    .dataframe tbody tr th {\n",
       "        vertical-align: top;\n",
       "    }\n",
       "\n",
       "    .dataframe thead th {\n",
       "        text-align: right;\n",
       "    }\n",
       "</style>\n",
       "<table border=\"1\" class=\"dataframe\">\n",
       "  <thead>\n",
       "    <tr style=\"text-align: right;\">\n",
       "      <th></th>\n",
       "      <th>Publication number</th>\n",
       "      <th>Description</th>\n",
       "    </tr>\n",
       "  </thead>\n",
       "  <tbody>\n",
       "    <tr>\n",
       "      <th>0</th>\n",
       "      <td>US2018300966A1</td>\n",
       "      <td>the invention relates to a method a processor ...</td>\n",
       "    </tr>\n",
       "    <tr>\n",
       "      <th>1</th>\n",
       "      <td>US2017236231A1</td>\n",
       "      <td>emergency evacuation is the immediate and urge...</td>\n",
       "    </tr>\n",
       "    <tr>\n",
       "      <th>2</th>\n",
       "      <td>US2017015177A1</td>\n",
       "      <td>the present invention relates in general to th...</td>\n",
       "    </tr>\n",
       "    <tr>\n",
       "      <th>3</th>\n",
       "      <td>WO2015143689A1</td>\n",
       "      <td>apparatus and method for improving air quality...</td>\n",
       "    </tr>\n",
       "    <tr>\n",
       "      <th>4</th>\n",
       "      <td>US2018176757A1</td>\n",
       "      <td>the invention relates to a method for providin...</td>\n",
       "    </tr>\n",
       "    <tr>\n",
       "      <th>...</th>\n",
       "      <td>...</td>\n",
       "      <td>...</td>\n",
       "    </tr>\n",
       "    <tr>\n",
       "      <th>193</th>\n",
       "      <td>US2017008467A1</td>\n",
       "      <td>this application contains subject matter relat...</td>\n",
       "    </tr>\n",
       "    <tr>\n",
       "      <th>194</th>\n",
       "      <td>US2012078468A1</td>\n",
       "      <td>this application contains subject matter relat...</td>\n",
       "    </tr>\n",
       "    <tr>\n",
       "      <th>195</th>\n",
       "      <td>US2012078496A1</td>\n",
       "      <td>this application contains subject matter relat...</td>\n",
       "    </tr>\n",
       "    <tr>\n",
       "      <th>196</th>\n",
       "      <td>US2012078467A1</td>\n",
       "      <td>this application contains subject matter relat...</td>\n",
       "    </tr>\n",
       "    <tr>\n",
       "      <th>197</th>\n",
       "      <td>US2019296308A1</td>\n",
       "      <td>the invention relates to a lithium cell which ...</td>\n",
       "    </tr>\n",
       "  </tbody>\n",
       "</table>\n",
       "<p>198 rows × 2 columns</p>\n",
       "</div>"
      ],
      "text/plain": [
       "    Publication number                                        Description\n",
       "0       US2018300966A1  the invention relates to a method a processor ...\n",
       "1       US2017236231A1  emergency evacuation is the immediate and urge...\n",
       "2       US2017015177A1  the present invention relates in general to th...\n",
       "3       WO2015143689A1  apparatus and method for improving air quality...\n",
       "4       US2018176757A1  the invention relates to a method for providin...\n",
       "..                 ...                                                ...\n",
       "193     US2017008467A1  this application contains subject matter relat...\n",
       "194     US2012078468A1  this application contains subject matter relat...\n",
       "195     US2012078496A1  this application contains subject matter relat...\n",
       "196     US2012078467A1  this application contains subject matter relat...\n",
       "197     US2019296308A1  the invention relates to a lithium cell which ...\n",
       "\n",
       "[198 rows x 2 columns]"
      ]
     },
     "execution_count": 6,
     "metadata": {},
     "output_type": "execute_result"
    }
   ],
   "source": [
    "df"
   ]
  },
  {
   "cell_type": "code",
   "execution_count": 7,
   "metadata": {},
   "outputs": [],
   "source": [
    "from sklearn.feature_extraction.text import TfidfVectorizer\n",
    "tfid=TfidfVectorizer()"
   ]
  },
  {
   "cell_type": "code",
   "execution_count": 8,
   "metadata": {},
   "outputs": [],
   "source": [
    "import spacy\n",
    "nlp=spacy.load('en_core_web_sm')"
   ]
  },
  {
   "cell_type": "code",
   "execution_count": 9,
   "metadata": {},
   "outputs": [],
   "source": [
    "text2=df['Description'][0]"
   ]
  },
  {
   "cell_type": "code",
   "execution_count": 10,
   "metadata": {},
   "outputs": [],
   "source": [
    "from wordcloud import WordCloud"
   ]
  },
  {
   "cell_type": "code",
   "execution_count": 11,
   "metadata": {},
   "outputs": [],
   "source": [
    "l=[]\n",
    "for i in text2.split():\n",
    "    if(i not in stopworsd):\n",
    "        l.append(i)"
   ]
  },
  {
   "cell_type": "code",
   "execution_count": 12,
   "metadata": {},
   "outputs": [
    {
     "data": {
      "text/plain": [
       "'e'"
      ]
     },
     "execution_count": 12,
     "metadata": {},
     "output_type": "execute_result"
    }
   ],
   "source": [
    "text2[2]"
   ]
  },
  {
   "cell_type": "code",
   "execution_count": 13,
   "metadata": {},
   "outputs": [
    {
     "data": {
      "image/png": "[encoded data removed]",
      "text/plain": [
       "<Figure size 432x288 with 1 Axes>"
      ]
     },
     "metadata": {
      "needs_background": "light"
     },
     "output_type": "display_data"
    }
   ],
   "source": [
    "wordcloud2 = WordCloud().generate(text2)\n",
    "# Generate plot\n",
    "plt.imshow(wordcloud2)\n",
    "plt.axis(\"off\")\n",
    "plt.show()"
   ]
  },
  {
   "cell_type": "code",
   "execution_count": 14,
   "metadata": {},
   "outputs": [],
   "source": [
    "from sklearn.feature_extraction.text import CountVectorizer"
   ]
  },
  {
   "cell_type": "code",
   "execution_count": 15,
   "metadata": {},
   "outputs": [],
   "source": [
    "cv=CountVectorizer(max_df=0.85,min_df=2,stop_words='english',ngram_range=(1, 2))"
   ]
  },
  {
   "cell_type": "code",
   "execution_count": 16,
   "metadata": {},
   "outputs": [],
   "source": [
    "dtm=cv.fit_transform(df['Description'])"
   ]
  },
  {
   "cell_type": "code",
   "execution_count": 17,
   "metadata": {},
   "outputs": [
    {
     "data": {
      "text/plain": [
       "<198x43118 sparse matrix of type '<class 'numpy.int64'>'\n",
       "\twith 218981 stored elements in Compressed Sparse Row format>"
      ]
     },
     "execution_count": 17,
     "metadata": {},
     "output_type": "execute_result"
    }
   ],
   "source": [
    "dtm"
   ]
  },
  {
   "cell_type": "code",
   "execution_count": 18,
   "metadata": {},
   "outputs": [],
   "source": [
    "from sklearn.decomposition import LatentDirichletAllocation"
   ]
  },
  {
   "cell_type": "code",
   "execution_count": 19,
   "metadata": {},
   "outputs": [],
   "source": [
    "lda=LatentDirichletAllocation(n_components=4,random_state=42)"
   ]
  },
  {
   "cell_type": "code",
   "execution_count": 20,
   "metadata": {},
   "outputs": [
    {
     "data": {
      "text/plain": [
       "LatentDirichletAllocation(batch_size=128, doc_topic_prior=None,\n",
       "                          evaluate_every=-1, learning_decay=0.7,\n",
       "                          learning_method='batch', learning_offset=10.0,\n",
       "                          max_doc_update_iter=100, max_iter=10,\n",
       "                          mean_change_tol=0.001, n_components=4, n_jobs=None,\n",
       "                          perp_tol=0.1, random_state=42, topic_word_prior=None,\n",
       "                          total_samples=1000000.0, verbose=0)"
      ]
     },
     "execution_count": 20,
     "metadata": {},
     "output_type": "execute_result"
    }
   ],
   "source": [
    "lda.fit(dtm)"
   ]
  },
  {
   "cell_type": "code",
   "execution_count": 21,
   "metadata": {},
   "outputs": [
    {
     "data": {
      "text/plain": [
       "43118"
      ]
     },
     "execution_count": 21,
     "metadata": {},
     "output_type": "execute_result"
    }
   ],
   "source": [
    "len(cv.get_feature_names())"
   ]
  },
  {
   "cell_type": "code",
   "execution_count": 22,
   "metadata": {},
   "outputs": [
    {
     "data": {
      "text/plain": [
       "'combining form'"
      ]
     },
     "execution_count": 22,
     "metadata": {},
     "output_type": "execute_result"
    }
   ],
   "source": [
    "cv.get_feature_names()[6000]"
   ]
  },
  {
   "cell_type": "code",
   "execution_count": 23,
   "metadata": {},
   "outputs": [
    {
     "name": "stdout",
     "output_type": "stream",
     "text": [
      "4\n"
     ]
    }
   ],
   "source": [
    "print(len(lda.components_))"
   ]
  },
  {
   "cell_type": "code",
   "execution_count": 24,
   "metadata": {},
   "outputs": [
    {
     "data": {
      "text/plain": [
       "array([[ 0.2500001 ,  0.25000011,  0.25000011, ...,  0.25038371,\n",
       "         2.24966161,  2.24966161],\n",
       "       [14.24999974,  2.24999971,  2.24999971, ...,  0.25089012,\n",
       "         0.25033817,  0.25033817],\n",
       "       [ 0.25000008,  0.25000009,  0.25000009, ...,  3.24872605,\n",
       "         0.25000011,  0.25000011],\n",
       "       [ 0.25000008,  0.25000009,  0.25000009, ...,  0.25000012,\n",
       "         0.25000011,  0.25000011]])"
      ]
     },
     "execution_count": 24,
     "metadata": {},
     "output_type": "execute_result"
    }
   ],
   "source": [
    "lda.components_"
   ]
  },
  {
   "cell_type": "code",
   "execution_count": 25,
   "metadata": {},
   "outputs": [],
   "source": [
    "single_topic=lda.components_[0]"
   ]
  },
  {
   "cell_type": "code",
   "execution_count": 26,
   "metadata": {},
   "outputs": [
    {
     "data": {
      "text/plain": [
       "array([24483,  3870,   553, ...,  8864,  5341,  7996], dtype=int64)"
      ]
     },
     "execution_count": 26,
     "metadata": {},
     "output_type": "execute_result"
    }
   ],
   "source": [
    "single_topic.argsort()"
   ]
  },
  {
   "cell_type": "code",
   "execution_count": 27,
   "metadata": {},
   "outputs": [],
   "source": [
    "import numpy as np"
   ]
  },
  {
   "cell_type": "code",
   "execution_count": 28,
   "metadata": {},
   "outputs": [],
   "source": [
    "arr=np.array([10,200,1])"
   ]
  },
  {
   "cell_type": "code",
   "execution_count": 29,
   "metadata": {},
   "outputs": [
    {
     "data": {
      "text/plain": [
       "array([2, 0, 1], dtype=int64)"
      ]
     },
     "execution_count": 29,
     "metadata": {},
     "output_type": "execute_result"
    }
   ],
   "source": [
    "arr.argsort()"
   ]
  },
  {
   "cell_type": "code",
   "execution_count": 30,
   "metadata": {},
   "outputs": [
    {
     "data": {
      "text/plain": [
       "array([33271, 18311, 42486, 25483,  9122, 10922, 13742,  8864,  5341,\n",
       "        7996], dtype=int64)"
      ]
     },
     "execution_count": 30,
     "metadata": {},
     "output_type": "execute_result"
    }
   ],
   "source": [
    "single_topic.argsort()[-10:]"
   ]
  },
  {
   "cell_type": "code",
   "execution_count": 31,
   "metadata": {},
   "outputs": [],
   "source": [
    "top_ten_single_Atr=single_topic.argsort()[-20:]"
   ]
  },
  {
   "cell_type": "code",
   "execution_count": 32,
   "metadata": {},
   "outputs": [
    {
     "name": "stdout",
     "output_type": "stream",
     "text": [
      "point\n",
      "electrical\n",
      "store\n",
      "storage\n",
      "state\n",
      "power\n",
      "particular\n",
      "display\n",
      "program\n",
      "control unit\n",
      "second\n",
      "image\n",
      "voltage\n",
      "operating\n",
      "data\n",
      "device\n",
      "energy\n",
      "current\n",
      "charging\n",
      "control\n"
     ]
    }
   ],
   "source": [
    "for index in top_ten_single_Atr:\n",
    "    print(cv.get_feature_names()[index])"
   ]
  },
  {
   "cell_type": "code",
   "execution_count": 33,
   "metadata": {},
   "outputs": [
    {
     "name": "stdout",
     "output_type": "stream",
     "text": [
      "Top 20 for 0\n",
      "['harness', 'time segment', 'fuse', 'operating mode', 'described document', 'inverter', 'potential', 'costs', 'carried', 'directly', 'multiplicity', 'error', 'energy storage', 'generated', 'programming unit', 'object', 'according aspect', 'starting', 'modules', 'browser', 'parameters', 'coupled', 'provide', 'controller', 'control units', 'message', 'graphical', 'coil', 'source', 'place', 'block', 'threedimensional', 'perspective transformation', 'determining', 'connecting', 'basic', 'voltage converter', 'operating location', 'arranged', 'apparatus', 'unit cu', 'tiles', 'fault', 'local', 'position', 'cu', 'graphics', 'able', 'mirror', 'conditioning', 'perspectively transformed', 'selected', 'purpose', 'perspectively', 'surface', 'available', 'segment', 'phase', 'strength', 'values', 'limit', 'dc', 'address', 'model', 'range', 'determine', 'locations', 'vehicles', 'reduced', 'element', 'advantageous', 'plurality', 'basis', 'stored', 'additional', 'machine', 'threshold value', 'include', 'navigation destination', 'separator', 'embodiment', 'fig shows', 'connection', 'stack', 'typically', 'step', 'configured', 'predefined', 'processing unit', 'having', 'addition', 'points', 'switch', 'threshold', 'document', 'onboard', 'joint', 'bus', 'transformed', 'particularly', 'perspective', 'processing', 'using', 'protocol', 'shows', 'processor', 'motor vehicle', 'displayed', 'quiescent current', 'components', 'devices', 'application', 'fan', 'charging current', 'transformation', 'exemplary', 'battery', 'includes', 'aspect', 'assigned', 'quiescent', 'set', 'operation', 'result', 'electrical energy', 'computer', 'network', 'node', 'location', 'charging cable', 'comprise', 'individual', 'internet', 'cells', 'program data', 'cell', 'sensor', 'switching', 'maximum', 'process', 'units', 'different', 'image content', 'number', 'communication', 'connected', 'input', 'furthermore', 'state charge', 'control device', 'motor', 'determined', 'function', 'destination', 'line', 'manner', 'user', 'circuit', 'cable', 'converter', 'information', 'content', 'navigation', 'programming', 'comprises', 'picular', 'output', 'supply', 'preferably', 'described', 'interface', 'designed', 'charge', 'memory', 'energy store', 'mode', 'value', 'module', 'respective', 'electric', 'point', 'electrical', 'store', 'storage', 'state', 'power', 'particular', 'display', 'program', 'control unit', 'second', 'image', 'voltage', 'operating', 'data', 'device', 'energy', 'current', 'charging', 'control']\n",
      "Top 20 for 1\n",
      "['start', 'target', 'segments', 'change', 'way example', 'traffic signal', 'implemented', 'rate', 'air', 'art', 'exemplary embodiments', 'occupancy', 'display', 'feature', 'mixture', 'physical', 'data bus', 'poi', 'configured', 'base station', 'addition', 'data transmission', 'controller', 'identified', 'object', 'pedal', 'specific', 'form', 'average', 'data packets', 'type', 'time period', 'block', 'respect', 'source', 'voice', 'devices', 'local', 'furthermore', 'application', 'input', 'trip', 'fig illustrates', 'threshold', 'estimated', 'relay transceiver', 'parameter', 'packets', 'particularly', 'predetermined', 'brake', 'central', 'energy utilization', 'condition', 'terminal', 'end', 'output', 'link', 'flexray', 'performed', 'database', 'manner', 'preferably', 'ventilation vehicle', 'connected', 'includes', 'available', 'lighting', 'illustrates', 'drive', 'result', 'emissions', 'led unit', 'data packet', 'backend', 'according invention', 'mobile radio', 'actual', 'temperature', 'wireless', 'profile', 'program', 'region', 'intersection', 'ventilation', 'sensors', 'utilization', 'processor', 'exemplary embodiment', 'broadcast', 'various', 'cell', 'gaussian', 'elements', 'received', 'measurement', 'driving', 'related', 'period', 'known', 'speed', 'space', 'basis', 'layer', 'element', 'having', 'packet', 'service', 'digital', 'fig shows', 'systems', 'state', 'quality', 'base', 'associated', 'function', 'current', 'points', 'station', 'transmitted', 'disclosure', 'include', 'place', 'determine', 'memory', 'process', 'energy', 'parking', 'determining', 'components', 'video', 'transmission', 'shows', 'fuel', 'server', 'travel', 'destination', 'reference', 'accordance', 'different', 'provide', 'number', 'distance', 'set', 'parameters', 'road', 'route', 'control', 'shown', 'described', 'model', 'interface', 'driver', 'led', 'comprise', 'users', 'signals', 'relay', 'access', 'area', 'comprises', 'navigation', 'step', 'vehicles', 'stored', 'plurality', 'connection', 'values', 'exemplary', 'motor vehicle', 'point', 'processing', 'motor', 'radio', 'signal', 'respective', 'second', 'module', 'apparatus', 'communication', 'transceiver', 'location', 'value', 'sensor', 'bus', 'based', 'determined', 'using', 'position', 'traffic', 'device', 'embodiment', 'map', 'particular', 'computer', 'mobile', 'network', 'user', 'information', 'data']\n",
      "Top 20 for 2\n",
      "['multiplicity', 'processing', 'stored', 'applications', 'input', 'probability', 'cells', 'processor', 'cell base', 'gateway', 'interface', 'sent', 'link', 'switch', 'electromagnetic', 'depending', 'shield', 'radio signal', 'alternatively', 'multicast', 'having', 'step', 'inductive', 'base unit', 'sensor', 'destination', 'program', 'quality indicator', 'result', 'data packet', 'actuator', 'communications', 'delay', 'arranged', 'available', 'able', 'unit vehicle', 'display', 'context', 'operation', 'allows', 'view', 'standard', 'configuration', 'direction', 'layer', 'telematics', 'elements', 'channel quality', 'communication unit', 'reception', 'roof', 'includes', 'software', 'relative', 'number', 'additionally', 'bus', 'temperature', 'request signal', 'advantageous', 'shown', 'current', 'computer', 'negative', 'motor vehicle', 'document', 'secondary coil', 'preferably', 'typically', 'specific', 'primary coil', 'place', 'protocol', 'electrical unit', 'transmit', 'interference', 'glare', 'receive', 'operating', 'control unit', 'based', 'body', 'fig shows', 'addition', 'ethernet', 'area', 'using', 'cabin', 'determine', 'mobile radio', 'value', 'devices', 'include', 'basis', 'central', 'coupled', 'emergency supply', 'variation', 'wireless', 'predefined', 'systems', 'terminal', 'stations', 'circuit', 'component', 'coupling', 'electrical energy', 'shows', 'parking', 'server', 'filter', 'process', 'antenna', 'instance', 'cellular', 'aspect', 'components', 'transmitter', 'distance', 'broadcast', 'quality', 'secondary', 'respective', 'supply energy', 'vehicle data', 'units', 'user', 'second communication', 'exemplary', 'indicator', 'set', 'primary', 'receiving', 'access', 'line', 'packet', 'designed', 'object', 'rotor', 'request', 'function', 'emergency', 'messages', 'determined', 'described', 'received', 'storage device', 'module', 'embodiment', 'furthermore', 'controller', 'motor', 'transmitting', 'picular', 'vehicles', 'power', 'energy storage', 'reference', 'frequency', 'cell', 'connected', 'receiver', 'comprise', 'coil', 'range', 'different', 'key', 'signals', 'mobile', 'transmitted', 'particular', 'comprises', 'plurality', 'configured', 'position', 'base station', 'element', 'communication device', 'storage', 'connection', 'message', 'supply', 'information', 'channel', 'control', 'electrical', 'energy', 'charging station', 'network', 'base', 'transmission', 'second', 'radio', 'station', 'device', 'signal', 'data', 'communication', 'charging']\n",
      "Top 20 for 3\n",
      "['electric', 'lateral', 'situations', 'awareness level', 'having', 'relation', 'detected road', 'vehicle example', 'alternatively', 'operating', 'electronic', 'concerning', 'multiplicity', 'display unit', 'known', 'purpose', 'end', 'described document', 'deceleration', 'step', 'awareness modification', 'brake', 'internal', 'assistance systems', 'outside', 'driver vehicle', 'multimedia', 'necessary', 'vehicle picular', 'typically', 'advantageous', 'sequence', 'value', 'model', 'pedestrian', 'need', 'autonomous', 'combustion', 'pressure', 'aspect', 'reference data', 'guidance', 'collision', 'warning', 'assessment', 'optical', 'combustion engine', 'longitudinal', 'driving style', 'orientation', 'determining', 'apparatus', 'processing', 'internal combustion', 'gesture', 'radio key', 'list', 'functions', 'style', 'individual', 'automatic', 'transmission', 'state', 'reference trajectory', 'surroundings vehicle', 'include', 'roadway', 'view', 'preferred', 'according invention', 'application', 'device', 'comprise', 'manner', 'indication', 'process', 'program', 'maneuver', 'drivers', 'elements', 'graphic', 'ego vehicle', 'wheel', 'displayed', 'additionally', 'fig shows', 'power', 'comprises', 'active', 'element', 'modification', 'safety', 'road users', 'place', 'ego', 'document', 'type', 'result', 'signal', 'forward', 'users', 'reversing', 'input', 'additional', 'exemplary', 'torque', 'area', 'eco', 'angle', 'images', 'respect', 'reaction', 'predefined', 'different', 'braking', 'determine', 'change', 'addition', 'user situation', 'shows', 'based', 'acceleration', 'form', 'furthermore', 'visual', 'assistant', 'fuel consumption', 'steering', 'navigation', 'level', 'vehicles', 'preferably', 'current', 'engine', 'region', 'environment', 'embodiment', 'characteristic', 'set', 'unit configured', 'drive', 'wiper', 'motor vehicle', 'module', 'determined', 'light', 'sensors', 'point', 'consumption', 'mode', 'route', 'situation awareness', 'awareness', 'particular', 'accelerator pedal', 'camera', 'accelerator', 'lane', 'distance', 'communication', 'described', 'second', 'driver assistance', 'movement', 'fuel', 'pedal', 'direction', 'range', 'event', 'traffic', 'detection', 'output', 'function', 'trajectory', 'motor', 'basis', 'systems', 'travel', 'picular', 'configured', 'reference', 'object', 'assistance', 'sensor', 'information', 'image', 'surroundings', 'road user', 'control unit', 'speed', 'detected', 'situation', 'data', 'position', 'display', 'driving', 'control', 'user', 'road', 'driver']\n"
     ]
    }
   ],
   "source": [
    "\n",
    "for index,topic in enumerate(lda.components_):\n",
    "    print(f'Top 20 for {index}')\n",
    "    print([cv.get_feature_names()[index1] for index1 in topic.argsort()[-200:]])"
   ]
  },
  {
   "cell_type": "code",
   "execution_count": 34,
   "metadata": {},
   "outputs": [],
   "source": [
    "topic_results=lda.transform(dtm)"
   ]
  },
  {
   "cell_type": "code",
   "execution_count": 35,
   "metadata": {},
   "outputs": [
    {
     "data": {
      "text/plain": [
       "1"
      ]
     },
     "execution_count": 35,
     "metadata": {},
     "output_type": "execute_result"
    }
   ],
   "source": [
    "topic_results[1].argmax()"
   ]
  },
  {
   "cell_type": "code",
   "execution_count": 36,
   "metadata": {},
   "outputs": [
    {
     "name": "stdout",
     "output_type": "stream",
     "text": [
      "0.007\n",
      "99.98\n",
      "0.007\n",
      "0.007\n"
     ]
    }
   ],
   "source": [
    "for i in topic_results[2]/np.sum(topic_results[2])*100:\n",
    "    print(round(i,3))"
   ]
  },
  {
   "cell_type": "code",
   "execution_count": 37,
   "metadata": {},
   "outputs": [
    {
     "data": {
      "text/plain": [
       "0.9999999999999999"
      ]
     },
     "execution_count": 37,
     "metadata": {},
     "output_type": "execute_result"
    }
   ],
   "source": [
    "np.sum(topic_results[2])"
   ]
  },
  {
   "cell_type": "code",
   "execution_count": 38,
   "metadata": {},
   "outputs": [],
   "source": [
    "df['topic']=topic_results.argmax(axis=1)"
   ]
  },
  {
   "cell_type": "code",
   "execution_count": 39,
   "metadata": {},
   "outputs": [
    {
     "data": {
      "text/html": [
       "<div>\n",
       "<style scoped>\n",
       "    .dataframe tbody tr th:only-of-type {\n",
       "        vertical-align: middle;\n",
       "    }\n",
       "\n",
       "    .dataframe tbody tr th {\n",
       "        vertical-align: top;\n",
       "    }\n",
       "\n",
       "    .dataframe thead th {\n",
       "        text-align: right;\n",
       "    }\n",
       "</style>\n",
       "<table border=\"1\" class=\"dataframe\">\n",
       "  <thead>\n",
       "    <tr style=\"text-align: right;\">\n",
       "      <th></th>\n",
       "      <th>Publication number</th>\n",
       "      <th>Description</th>\n",
       "      <th>topic</th>\n",
       "    </tr>\n",
       "  </thead>\n",
       "  <tbody>\n",
       "    <tr>\n",
       "      <th>0</th>\n",
       "      <td>US2018300966A1</td>\n",
       "      <td>the invention relates to a method a processor ...</td>\n",
       "      <td>1</td>\n",
       "    </tr>\n",
       "    <tr>\n",
       "      <th>1</th>\n",
       "      <td>US2017236231A1</td>\n",
       "      <td>emergency evacuation is the immediate and urge...</td>\n",
       "      <td>1</td>\n",
       "    </tr>\n",
       "    <tr>\n",
       "      <th>2</th>\n",
       "      <td>US2017015177A1</td>\n",
       "      <td>the present invention relates in general to th...</td>\n",
       "      <td>1</td>\n",
       "    </tr>\n",
       "    <tr>\n",
       "      <th>3</th>\n",
       "      <td>WO2015143689A1</td>\n",
       "      <td>apparatus and method for improving air quality...</td>\n",
       "      <td>1</td>\n",
       "    </tr>\n",
       "    <tr>\n",
       "      <th>4</th>\n",
       "      <td>US2018176757A1</td>\n",
       "      <td>the invention relates to a method for providin...</td>\n",
       "      <td>1</td>\n",
       "    </tr>\n",
       "    <tr>\n",
       "      <th>...</th>\n",
       "      <td>...</td>\n",
       "      <td>...</td>\n",
       "      <td>...</td>\n",
       "    </tr>\n",
       "    <tr>\n",
       "      <th>193</th>\n",
       "      <td>US2017008467A1</td>\n",
       "      <td>this application contains subject matter relat...</td>\n",
       "      <td>3</td>\n",
       "    </tr>\n",
       "    <tr>\n",
       "      <th>194</th>\n",
       "      <td>US2012078468A1</td>\n",
       "      <td>this application contains subject matter relat...</td>\n",
       "      <td>3</td>\n",
       "    </tr>\n",
       "    <tr>\n",
       "      <th>195</th>\n",
       "      <td>US2012078496A1</td>\n",
       "      <td>this application contains subject matter relat...</td>\n",
       "      <td>3</td>\n",
       "    </tr>\n",
       "    <tr>\n",
       "      <th>196</th>\n",
       "      <td>US2012078467A1</td>\n",
       "      <td>this application contains subject matter relat...</td>\n",
       "      <td>3</td>\n",
       "    </tr>\n",
       "    <tr>\n",
       "      <th>197</th>\n",
       "      <td>US2019296308A1</td>\n",
       "      <td>the invention relates to a lithium cell which ...</td>\n",
       "      <td>3</td>\n",
       "    </tr>\n",
       "  </tbody>\n",
       "</table>\n",
       "<p>198 rows × 3 columns</p>\n",
       "</div>"
      ],
      "text/plain": [
       "    Publication number                                        Description  \\\n",
       "0       US2018300966A1  the invention relates to a method a processor ...   \n",
       "1       US2017236231A1  emergency evacuation is the immediate and urge...   \n",
       "2       US2017015177A1  the present invention relates in general to th...   \n",
       "3       WO2015143689A1  apparatus and method for improving air quality...   \n",
       "4       US2018176757A1  the invention relates to a method for providin...   \n",
       "..                 ...                                                ...   \n",
       "193     US2017008467A1  this application contains subject matter relat...   \n",
       "194     US2012078468A1  this application contains subject matter relat...   \n",
       "195     US2012078496A1  this application contains subject matter relat...   \n",
       "196     US2012078467A1  this application contains subject matter relat...   \n",
       "197     US2019296308A1  the invention relates to a lithium cell which ...   \n",
       "\n",
       "     topic  \n",
       "0        1  \n",
       "1        1  \n",
       "2        1  \n",
       "3        1  \n",
       "4        1  \n",
       "..     ...  \n",
       "193      3  \n",
       "194      3  \n",
       "195      3  \n",
       "196      3  \n",
       "197      3  \n",
       "\n",
       "[198 rows x 3 columns]"
      ]
     },
     "execution_count": 39,
     "metadata": {},
     "output_type": "execute_result"
    }
   ],
   "source": [
    "df"
   ]
  },
  {
   "cell_type": "code",
   "execution_count": 40,
   "metadata": {},
   "outputs": [
    {
     "data": {
      "text/plain": [
       "1    66\n",
       "3    49\n",
       "0    43\n",
       "2    40\n",
       "Name: topic, dtype: int64"
      ]
     },
     "execution_count": 40,
     "metadata": {},
     "output_type": "execute_result"
    }
   ],
   "source": [
    "df['topic'].value_counts()"
   ]
  },
  {
   "cell_type": "code",
   "execution_count": 41,
   "metadata": {},
   "outputs": [],
   "source": [
    "Mechanical=[]\n",
    "Telecommunication=[]\n",
    "Computer_technology=[]\n",
    "def fun_to_app(i):\n",
    "    Mechanical.append(round(i[0]/i.sum()*100,2))\n",
    "    Telecommunication.append(round(i[2]/i.sum()*100,2))\n",
    "    Computer_technology.append(round(i[3]/i.sum()*100,2))\n",
    "#     other.append(round(i[3]/i.sum()*100,2))"
   ]
  },
  {
   "cell_type": "code",
   "execution_count": 42,
   "metadata": {},
   "outputs": [],
   "source": [
    "for i in range(len(topic_results)):\n",
    "    fun_to_app(topic_results[i])"
   ]
  },
  {
   "cell_type": "code",
   "execution_count": 43,
   "metadata": {},
   "outputs": [],
   "source": [
    "df['Mechanical']=Mechanical\n",
    "df['Telecommunication']=Telecommunication\n",
    "df['Computer_technology']=Computer_technology\n",
    "# df['other']=other"
   ]
  },
  {
   "cell_type": "code",
   "execution_count": 44,
   "metadata": {},
   "outputs": [],
   "source": [
    "# df=df.drop(['Mechanical','Computer','Electrical'],axis=1)"
   ]
  },
  {
   "cell_type": "code",
   "execution_count": 45,
   "metadata": {
    "scrolled": true
   },
   "outputs": [
    {
     "data": {
      "text/plain": [
       "array([9.31646268e-01, 7.87447002e-05, 6.81965702e-02, 7.84169712e-05])"
      ]
     },
     "execution_count": 45,
     "metadata": {},
     "output_type": "execute_result"
    }
   ],
   "source": [
    "topic_results[19]/topic_results[197].sum()"
   ]
  },
  {
   "cell_type": "code",
   "execution_count": 46,
   "metadata": {},
   "outputs": [
    {
     "data": {
      "text/html": [
       "<div>\n",
       "<style scoped>\n",
       "    .dataframe tbody tr th:only-of-type {\n",
       "        vertical-align: middle;\n",
       "    }\n",
       "\n",
       "    .dataframe tbody tr th {\n",
       "        vertical-align: top;\n",
       "    }\n",
       "\n",
       "    .dataframe thead th {\n",
       "        text-align: right;\n",
       "    }\n",
       "</style>\n",
       "<table border=\"1\" class=\"dataframe\">\n",
       "  <thead>\n",
       "    <tr style=\"text-align: right;\">\n",
       "      <th></th>\n",
       "      <th>Publication number</th>\n",
       "      <th>Description</th>\n",
       "      <th>topic</th>\n",
       "      <th>Mechanical</th>\n",
       "      <th>Telecommunication</th>\n",
       "      <th>Computer_technology</th>\n",
       "    </tr>\n",
       "  </thead>\n",
       "  <tbody>\n",
       "    <tr>\n",
       "      <th>4</th>\n",
       "      <td>US2018176757A1</td>\n",
       "      <td>the invention relates to a method for providin...</td>\n",
       "      <td>1</td>\n",
       "      <td>0.01</td>\n",
       "      <td>7.58</td>\n",
       "      <td>0.01</td>\n",
       "    </tr>\n",
       "  </tbody>\n",
       "</table>\n",
       "</div>"
      ],
      "text/plain": [
       "  Publication number                                        Description  \\\n",
       "4     US2018176757A1  the invention relates to a method for providin...   \n",
       "\n",
       "   topic  Mechanical  Telecommunication  Computer_technology  \n",
       "4      1        0.01               7.58                 0.01  "
      ]
     },
     "execution_count": 46,
     "metadata": {},
     "output_type": "execute_result"
    }
   ],
   "source": [
    "df[df['Publication number']=='US2018176757A1']"
   ]
  },
  {
   "cell_type": "code",
   "execution_count": 47,
   "metadata": {},
   "outputs": [],
   "source": [
    "df.to_csv('Output_file1.csv',index=False)"
   ]
  },
  {
   "cell_type": "code",
   "execution_count": 48,
   "metadata": {},
   "outputs": [
    {
     "ename": "NameError",
     "evalue": "name 'dae' is not defined",
     "output_type": "error",
     "traceback": [
      "\u001b[1;31m---------------------------------------------------------------------------\u001b[0m",
      "\u001b[1;31mNameError\u001b[0m                                 Traceback (most recent call last)",
      "\u001b[1;32m<ipython-input-48-dd3db248854c>\u001b[0m in \u001b[0;36m<module>\u001b[1;34m\u001b[0m\n\u001b[1;32m----> 1\u001b[1;33m \u001b[0mdae\u001b[0m\u001b[1;33m[\u001b[0m\u001b[1;34m'Publication number'\u001b[0m\u001b[1;33m]\u001b[0m\u001b[1;33m.\u001b[0m\u001b[0mvalues\u001b[0m\u001b[1;33m\u001b[0m\u001b[1;33m\u001b[0m\u001b[0m\n\u001b[0m",
      "\u001b[1;31mNameError\u001b[0m: name 'dae' is not defined"
     ]
    }
   ],
   "source": [
    "dae['Publication number'].values"
   ]
  },
  {
   "cell_type": "code",
   "execution_count": null,
   "metadata": {},
   "outputs": [],
   "source": [
    "df[df['Publication number']=='US2012209487A1']"
   ]
  },
  {
   "cell_type": "code",
   "execution_count": null,
   "metadata": {},
   "outputs": [],
   "source": [
    "df.iloc[116]"
   ]
  },
  {
   "cell_type": "code",
   "execution_count": null,
   "metadata": {},
   "outputs": [],
   "source": [
    "df"
   ]
  },
  {
   "cell_type": "code",
   "execution_count": null,
   "metadata": {},
   "outputs": [],
   "source": []
  }
 ],
 "metadata": {
  "kernelspec": {
   "display_name": "Python 3",
   "language": "python",
   "name": "python3"
  },
  "language_info": {
   "codemirror_mode": {
    "name": "ipython",
    "version": 3
   },
   "file_extension": ".py",
   "mimetype": "text/x-python",
   "name": "python",
   "nbconvert_exporter": "python",
   "pygments_lexer": "ipython3",
   "version": "3.7.6"
  }
 },
 "nbformat": 4,
 "nbformat_minor": 4
}
